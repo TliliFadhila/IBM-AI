{
 "cells": [
  {
   "cell_type": "markdown",
   "id": "b10bec9a-bd7e-401f-b90b-e5ec27a8c27f",
   "metadata": {},
   "source": [
    "# Data Science Tools and Ecosystem"
   ]
  },
  {
   "cell_type": "markdown",
   "id": "8e1aabc2-eb32-4634-ab5f-4fe553c39d33",
   "metadata": {},
   "source": [
    "In this notebook, Data Science Tools and Ecosystem are summarized."
   ]
  },
  {
   "cell_type": "markdown",
   "id": "8d86ab92-e38e-4142-82b5-95d4746fe232",
   "metadata": {
    "tags": []
   },
   "source": [
    "Objectives:\n",
    "\n",
    "    * Create a Jupyter Notebook\n",
    "    * Create markdown cell with title of the notebook\n",
    "    * Create a markdown cell for an introduction\n",
    "    * Create a code cell to convert minutes to hours\n",
    "    "
   ]
  },
  {
   "cell_type": "markdown",
   "id": "7dd9df0d-d26a-46d9-8beb-7f34eebf058f",
   "metadata": {},
   "source": [
    "Some of the popular languages that Data Scientists use are:\n",
    "\n",
    "    1. Python\n",
    "    2. R\n",
    "    3. Julia"
   ]
  },
  {
   "cell_type": "markdown",
   "id": "78846444-0c22-436e-ae56-b521a94a3dab",
   "metadata": {},
   "source": [
    "Some of the commonly used libraries used by Data Scientists include:\n",
    "    \n",
    "    1. TensorFlow\n",
    "    2. NumPy\n",
    "    3. Matplotlib "
   ]
  },
  {
   "cell_type": "markdown",
   "id": "a8760e8b-0a15-4185-a47f-5ed2bfad42ca",
   "metadata": {},
   "source": [
    "|Data Science Tools|\n",
    "|------------------|\n",
    "|VS Code|\n",
    "|Git|\n",
    "|.Net Core|"
   ]
  },
  {
   "cell_type": "markdown",
   "id": "4037afbe-3f65-497d-8f7f-97a4bea5a313",
   "metadata": {},
   "source": [
    "### Below are a few examples of evaluating arithmetic expressions in Python."
   ]
  },
  {
   "cell_type": "code",
   "execution_count": 27,
   "id": "638c8de8-67c9-4289-b0fe-4019f8170f24",
   "metadata": {
    "tags": []
   },
   "outputs": [
    {
     "data": {
      "text/plain": [
       "17"
      ]
     },
     "execution_count": 27,
     "metadata": {},
     "output_type": "execute_result"
    }
   ],
   "source": [
    "#This a simple arithmetic expression to mutiply then add integers\n",
    "(3*4)+5"
   ]
  },
  {
   "cell_type": "code",
   "execution_count": 28,
   "id": "c3d3e63c-1877-4a0c-8e1f-17b53ef6b473",
   "metadata": {
    "tags": []
   },
   "outputs": [
    {
     "data": {
      "text/plain": [
       "3"
      ]
     },
     "execution_count": 28,
     "metadata": {},
     "output_type": "execute_result"
    }
   ],
   "source": [
    "#This will convert 200 minutes to hours by diving by 60\n",
    "200//60"
   ]
  },
  {
   "cell_type": "markdown",
   "id": "a3c23825-3ce4-4c89-a4b2-3d8c0cae66d6",
   "metadata": {
    "tags": []
   },
   "source": [
    "## Author\n",
    "Areeba Shahid"
   ]
  }
 ],
 "metadata": {
  "kernelspec": {
   "display_name": "Python",
   "language": "python",
   "name": "conda-env-python-py"
  },
  "language_info": {
   "codemirror_mode": {
    "name": "ipython",
    "version": 3
   },
   "file_extension": ".py",
   "mimetype": "text/x-python",
   "name": "python",
   "nbconvert_exporter": "python",
   "pygments_lexer": "ipython3",
   "version": "3.7.12"
  }
 },
 "nbformat": 4,
 "nbformat_minor": 5
}
